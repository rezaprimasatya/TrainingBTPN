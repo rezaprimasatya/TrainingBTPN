{
 "cells": [
  {
   "cell_type": "markdown",
   "id": "63d561f1-e157-420d-a5cf-5682815b3a15",
   "metadata": {},
   "source": [
    "# Exercise 3"
   ]
  },
  {
   "cell_type": "markdown",
   "id": "1f0e1243-6f01-4353-b97b-e5a9ab800dc2",
   "metadata": {},
   "source": [
    "1. Write a code to delete element(s) from a given List."
   ]
  },
  {
   "cell_type": "code",
   "execution_count": 4,
   "id": "82b28654-f335-46bb-9117-310b45aa2b6b",
   "metadata": {},
   "outputs": [
    {
     "name": "stdout",
     "output_type": "stream",
     "text": [
      "Original list:\n",
      "List(1, 3, 5, 7, 9, 11, 14, 12)\n",
      "Filter out 3 from the above list:\n",
      "List(1, 5, 7, 9, 11, 14, 12)\n",
      "Filter out numbers which are greater than 10:\n",
      "List(11, 14, 12)\n"
     ]
    },
    {
     "data": {
      "text/plain": [
       "nums: List[Int] = List(1, 3, 5, 7, 9, 11, 14, 12)\n",
       "nums1: List[Int] = List(1, 5, 7, 9, 11, 14, 12)\n",
       "nums2: List[Int] = List(11, 14, 12)\n"
      ]
     },
     "execution_count": 4,
     "metadata": {},
     "output_type": "execute_result"
    }
   ],
   "source": [
    "val nums = List(1, 3, 5, 7, 9, 11, 14, 12)\n",
    "println(\"Original list:\")\n",
    "println(nums)   \n",
    "//As scala List is immutable, so we can’t delete elements from it, but\n",
    "//filter out element(s) as per requirement.\n",
    "println(\"Filter out 3 from the above list:\")\n",
    "val nums1 = nums.filter(x => x != 3) \n",
    "println(nums1)\n",
    "println(\"Filter out numbers which are greater than 10:\")\n",
    "val nums2 = nums.filter(x => x > 10) \n",
    "println(nums2)"
   ]
  },
  {
   "cell_type": "markdown",
   "id": "523a31d8-3930-47b7-a75d-c74e1207b669",
   "metadata": {},
   "source": [
    "2. Write a code to iterate over a list to print the elements and calculate the sum and product of all elements of this list"
   ]
  },
  {
   "cell_type": "code",
   "execution_count": 3,
   "id": "a28c97d5-ab6d-4075-a80e-b974719db75b",
   "metadata": {},
   "outputs": [
    {
     "name": "stdout",
     "output_type": "stream",
     "text": [
      "Iterate over a list:\n",
      "1\n",
      "3\n",
      "5\n",
      "7\n",
      "9\n",
      "Sum all the items of the said list:\n",
      "25\n",
      "Multiplies all the items of the said list:\n",
      "945\n"
     ]
    },
    {
     "data": {
      "text/plain": [
       "nums: List[Int] = List(1, 3, 5, 7, 9)\n",
       "result: Int = 25\n",
       "result1: Int = 945\n"
      ]
     },
     "execution_count": 3,
     "metadata": {},
     "output_type": "execute_result"
    }
   ],
   "source": [
    "//Iterate over a list\n",
    "val nums = List(1, 3, 5, 7, 9)\n",
    "println(\"Iterate over a list:\")\n",
    "for( i <- nums) {  \n",
    "    println(i)\n",
    "} \n",
    "\n",
    "println(\"Sum all the items of the said list:\")\n",
    "//Applying sum method \n",
    "val result = nums.sum \n",
    "println(result) \n",
    "\n",
    "println(\"Multiplies all the items of the said list:\")\n",
    "val result1 = nums.product \n",
    "println(result1) "
   ]
  },
  {
   "cell_type": "markdown",
   "id": "0e2dbe8a-5406-4fa4-a52e-04886d0f1616",
   "metadata": {},
   "source": [
    "3. Create list and calculate sum and avg using reduce"
   ]
  },
  {
   "cell_type": "code",
   "execution_count": 13,
   "id": "ea11f4c7-4f3e-4064-ba7e-ea6a2c708fb7",
   "metadata": {},
   "outputs": [
    {
     "data": {
      "text/plain": [
       "nums: List[Int] = List(1, 2, 4, 6, 3, 5, 7, 9)\n",
       "sum: Int = 37\n",
       "avg: Float = 4.625\n"
      ]
     },
     "execution_count": 13,
     "metadata": {},
     "output_type": "execute_result"
    }
   ],
   "source": [
    "val nums = List(1, 2, 4, 6, 3, 5, 7, 9)\n",
    "val sum = nums.reduce((a, b) => a + b)\n",
    "val avg = sum / nums.size.toFloat"
   ]
  },
  {
   "cell_type": "markdown",
   "id": "4719d3c7-3024-448a-8044-872efb24b622",
   "metadata": {},
   "source": [
    "4. create a list and calculate even and odd numbers"
   ]
  },
  {
   "cell_type": "code",
   "execution_count": 9,
   "id": "15bb9f6c-f09d-4121-a761-42b1a1e80a7f",
   "metadata": {},
   "outputs": [
    {
     "data": {
      "text/plain": [
       "nums: List[Int] = List(1, 2, 4, 6, 3, 5, 7, 9)\n",
       "res6: scala.collection.immutable.Map[String,Int] = Map(Odd -> 5, Even -> 3)\n"
      ]
     },
     "execution_count": 9,
     "metadata": {},
     "output_type": "execute_result"
    }
   ],
   "source": [
    "val nums = List(1, 2, 4, 6, 3, 5, 7, 9)\n",
    "nums.map(x => if (x % 2 == 0) \"Even\" else  \"Odd\" ).groupBy(identity).mapValues(x => x.size)"
   ]
  }
 ],
 "metadata": {
  "kernelspec": {
   "display_name": "spylon-kernel",
   "language": "scala",
   "name": "spylon-kernel"
  },
  "language_info": {
   "codemirror_mode": "text/x-scala",
   "file_extension": ".scala",
   "help_links": [
    {
     "text": "MetaKernel Magics",
     "url": "https://metakernel.readthedocs.io/en/latest/source/README.html"
    }
   ],
   "mimetype": "text/x-scala",
   "name": "scala",
   "pygments_lexer": "scala",
   "version": "0.4.1"
  }
 },
 "nbformat": 4,
 "nbformat_minor": 5
}
