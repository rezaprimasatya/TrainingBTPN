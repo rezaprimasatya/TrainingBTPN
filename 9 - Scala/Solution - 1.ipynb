{
 "cells": [
  {
   "cell_type": "markdown",
   "id": "e5f3fd98-2e72-4402-883d-16436ce1f22b",
   "metadata": {},
   "source": [
    "# Exercise 1"
   ]
  },
  {
   "cell_type": "markdown",
   "id": "ee8375f5-619a-40b9-a7da-e204387924f1",
   "metadata": {},
   "source": [
    "1. Write a code to compute the sum of the two given integer values. If the two values are the same, then return triples their sum"
   ]
  },
  {
   "cell_type": "code",
   "execution_count": 3,
   "id": "9266c283-9299-439b-a69b-5db1abeea64b",
   "metadata": {},
   "outputs": [
    {
     "name": "stdout",
     "output_type": "stream",
     "text": [
      "Result: 3\n",
      "Result: 12\n"
     ]
    },
    {
     "data": {
      "text/plain": [
       "test: (x: Int, y: Int)Int\n"
      ]
     },
     "execution_count": 3,
     "metadata": {},
     "output_type": "execute_result"
    }
   ],
   "source": [
    "def test(x:Int, y:Int) : Int = {\n",
    "    if (x == y) (x + y) * 3 else x + y\n",
    "}\n",
    "println(\"Result: \" + test(1, 2));\n",
    "println(\"Result: \" + test(2, 2));"
   ]
  },
  {
   "cell_type": "markdown",
   "id": "e21eebd6-ae92-4780-b72e-8937a1487e1b",
   "metadata": {},
   "source": [
    "2. Write a Scala program to get the absolute difference (no negative value) between n and 51. If n is greater than 51 return triple the absolute difference for example:"
   ]
  },
  {
   "cell_type": "code",
   "execution_count": 2,
   "id": "975bd291-6c27-4c63-9f8f-49920cc4cbbe",
   "metadata": {},
   "outputs": [
    {
     "name": "stdout",
     "output_type": "stream",
     "text": [
      "Result: 42\n",
      "Result: 21\n"
     ]
    },
    {
     "data": {
      "text/plain": [
       "test: (x: Int)Int\n"
      ]
     },
     "execution_count": 2,
     "metadata": {},
     "output_type": "execute_result"
    }
   ],
   "source": [
    "def test(x:Int) : Int = {\n",
    "    val abs_Diff = Math.abs(x - 51)\n",
    "    if (x > 51) 3 * abs_Diff else abs_Diff\n",
    "}\n",
    "\n",
    "println(\"Result: \" + test(65));\n",
    "println(\"Result: \" + test(30));"
   ]
  },
  {
   "cell_type": "markdown",
   "id": "5d9d3fd3-cae2-4228-a6ec-d27a99766ecb",
   "metadata": {},
   "source": [
    "3. Write a code to switch the first and last characters in a given string and return the new string"
   ]
  },
  {
   "cell_type": "code",
   "execution_count": 4,
   "id": "250bf433-89c5-48ea-8dc5-09a0eec0c599",
   "metadata": {},
   "outputs": [
    {
     "name": "stdout",
     "output_type": "stream",
     "text": [
      "Result: acalS\n",
      "Result: dbca\n",
      "Result: ba\n",
      "Result: a\n"
     ]
    },
    {
     "data": {
      "text/plain": [
       "test: (str1: String)String\n"
      ]
     },
     "execution_count": 4,
     "metadata": {},
     "output_type": "execute_result"
    }
   ],
   "source": [
    "def test(str1: String): String =  {\n",
    "    val len = str1.length\n",
    "    if (len <= 1) str1\n",
    "    else str1.charAt(len - 1) + str1.substring(1, len - 1) + str1.charAt(0)\n",
    "}\n",
    "println(\"Result: \" + test(\"Scala\"));\n",
    "println(\"Result: \" + test(\"abcd\"));\n",
    "println(\"Result: \" + test(\"ab\"));\n",
    "println(\"Result: \" + test(\"a\"));"
   ]
  },
  {
   "cell_type": "markdown",
   "id": "e97ba777-727c-4e0a-9a33-859905ba5e51",
   "metadata": {},
   "source": [
    "4. Write a code to check which number is nearest to the value 100 among two given integers.def test(x: Int, y: Int): Int = {\n",
    "    val x_abs = Math.abs(x - 100)\n",
    "    val y_abs = Math.abs(y - 100)\n",
    "    if (x_abs == y_abs) 0\n",
    "    else if (x_abs < y_abs) x\n",
    "    else y\n",
    "    }\n",
    " Return 0 if the two numbers are equal."
   ]
  },
  {
   "cell_type": "code",
   "execution_count": 5,
   "id": "4ae5fef9-454b-4eac-9d0c-c3f82720f34b",
   "metadata": {},
   "outputs": [
    {
     "name": "stdout",
     "output_type": "stream",
     "text": [
      "Result: 95\n",
      "Result: 0\n",
      "Result: 99\n"
     ]
    },
    {
     "data": {
      "text/plain": [
       "test: (x: Int, y: Int)Int\n"
      ]
     },
     "execution_count": 5,
     "metadata": {},
     "output_type": "execute_result"
    }
   ],
   "source": [
    "def test(x: Int, y: Int): Int = {\n",
    "    val x_abs = Math.abs(x - 100)\n",
    "    val y_abs = Math.abs(y - 100)\n",
    "    if (x_abs == y_abs) 0\n",
    "    else if (x_abs < y_abs) x\n",
    "    else y\n",
    "}\n",
    "println(\"Result: \" + test(78,95));\n",
    "println(\"Result: \" + test(95,95));\n",
    "println(\"Result: \" + test(99,70));"
   ]
  },
  {
   "cell_type": "markdown",
   "id": "fd22295a-ba89-45a5-a68c-0c444da62e4a",
   "metadata": {},
   "source": [
    "5. Create functions named `mathOperation` with arguments name:String. \n",
    "  - if name == \"addtion\" then return function to sum 2 integer\n",
    "  - if name == \"multiplication\" then return function to multiply 2 integer\n",
    "  - if name == \"division\" then return function to div 2 integer into integer\n",
    "  - if name == \"subtraction\" then return function to substrac 1 integer to another integer\n",
    "  - if name is not match then return 0\n",
    "  \n",
    "  then create partial applied function `add`, `multiply`, `div` and `sub`"
   ]
  },
  {
   "cell_type": "code",
   "execution_count": 13,
   "id": "2b185d01-c7ce-4fba-8d03-14fcb16c1dbf",
   "metadata": {},
   "outputs": [
    {
     "name": "stdout",
     "output_type": "stream",
     "text": [
      "3\n",
      "2\n",
      "2\n",
      "-1\n"
     ]
    },
    {
     "data": {
      "text/plain": [
       "mathOperation: (name: String)(Int, Int) => Int\n",
       "add: (Int, Int) => Int\n",
       "multiply: (Int, Int) => Int\n",
       "div: (Int, Int) => Int\n",
       "sub: (Int, Int) => Int\n"
      ]
     },
     "execution_count": 13,
     "metadata": {},
     "output_type": "execute_result"
    }
   ],
   "source": [
    "def mathOperation(name: String): (Int, Int) => Int = (x: Int, y: Int) => {\n",
    "    if (name == \"addition\") x + y\n",
    "    else if (name == \"multiplication\") x * y\n",
    "    else if (name == \"division\") x / y\n",
    "    else if (name == \"subtraction\") x - y\n",
    "    else 0\n",
    "}\n",
    "\n",
    "def add: (Int, Int) => Int = mathOperation(\"addition\")\n",
    "def multiply: (Int, Int) => Int = mathOperation(\"multiplication\")\n",
    "def div: (Int, Int) => Int = mathOperation(\"division\")\n",
    "def sub: (Int, Int) => Int = mathOperation(\"subtraction\")\n",
    "\n",
    "println(add(1, 2))\n",
    "println(multiply(1, 2))\n",
    "println(div(4, 2))\n",
    "println(sub(1, 2))"
   ]
  },
  {
   "cell_type": "markdown",
   "id": "d8679d94-9db2-4931-920a-4662f8d27a0f",
   "metadata": {},
   "source": [
    "6. Create code that has variable `height` and will output right triangle. for example if `val height = 5` then output is\n",
    "\n",
    "```\n",
    "*\n",
    "**\n",
    "***\n",
    "****\n",
    "*****\n",
    "```"
   ]
  },
  {
   "cell_type": "code",
   "execution_count": 9,
   "id": "86890e64-046c-451a-a6c2-5796760fce8d",
   "metadata": {},
   "outputs": [
    {
     "name": "stdout",
     "output_type": "stream",
     "text": [
      "* \n",
      "* * \n",
      "* * * \n",
      "* * * * \n",
      "* * * * * \n"
     ]
    },
    {
     "data": {
      "text/plain": [
       "height: Int = 5\n",
       "i: Int = 6\n"
      ]
     },
     "execution_count": 9,
     "metadata": {},
     "output_type": "execute_result"
    }
   ],
   "source": [
    "val height: Int = 5\n",
    "var i = 1\n",
    "while (i <= height) {\n",
    "  var j = 1\n",
    "  while (j <= i) {\n",
    "    System.out.print(\"* \")\n",
    "    j+=1\n",
    "  }\n",
    "  println()\n",
    "  i+=1\n",
    "}"
   ]
  },
  {
   "cell_type": "markdown",
   "id": "3d57af47-14b4-4f45-a55b-f22f2e6088ff",
   "metadata": {},
   "source": [
    "7. Create code that has variable `height` and will output Isosceles triangle. for example if `val height = 4` then output is\n",
    "\n",
    "```\n",
    "   *\n",
    "  ***\n",
    " *****\n",
    "*******\n",
    "```"
   ]
  },
  {
   "cell_type": "code",
   "execution_count": 14,
   "id": "82f648c5-2589-440a-96f2-e0c9fe9d33cf",
   "metadata": {},
   "outputs": [
    {
     "name": "stdout",
     "output_type": "stream",
     "text": [
      "    *\n",
      "   ***\n",
      "  *****\n",
      " *******\n",
      "*********\n"
     ]
    },
    {
     "data": {
      "text/plain": [
       "height: Int = 5\n",
       "i: Int = 6\n"
      ]
     },
     "execution_count": 14,
     "metadata": {},
     "output_type": "execute_result"
    }
   ],
   "source": [
    "val height: Int = 5\n",
    "var i = 1\n",
    "while (i <= height) {\n",
    "  var space = 1\n",
    "  var j = 1\n",
    "  while (space <= height - i) {\n",
    "    System.out.print(\" \")\n",
    "    space+=1\n",
    "  }\n",
    "  while (j <= i * 2 - 1) {\n",
    "    System.out.print(\"*\")\n",
    "    j+=1\n",
    "  }\n",
    "  println()\n",
    "  i+=1\n",
    "}"
   ]
  },
  {
   "cell_type": "markdown",
   "id": "55bc0026-7d93-4fa0-af47-c15054169219",
   "metadata": {},
   "source": [
    "8. Create code that has variable `height` and will output Diamond and height must be odd. for example `val height = 7` then output is\n",
    "\n",
    "```\n",
    "   *\n",
    "  ***\n",
    " *****\n",
    "*******\n",
    " *****\n",
    "  ***\n",
    "   *\n",
    "```"
   ]
  },
  {
   "cell_type": "code",
   "execution_count": 17,
   "id": "84698b64-89f2-45f2-abaf-aa1cddd12c4c",
   "metadata": {},
   "outputs": [
    {
     "name": "stdout",
     "output_type": "stream",
     "text": [
      "    *\n",
      "   ***\n",
      "  *****\n",
      " *******\n",
      "*********\n",
      " *******\n",
      "  *****\n",
      "   ***\n",
      "    *\n"
     ]
    },
    {
     "data": {
      "text/plain": [
       "height: Int = 5\n",
       "i: Int = 0\n",
       "i: Int = 0\n"
      ]
     },
     "execution_count": 17,
     "metadata": {},
     "output_type": "execute_result"
    }
   ],
   "source": [
    "val height: Int = 5\n",
    "var i: Int = 1\n",
    "while (i <= height) {\n",
    "  var space = 1\n",
    "  while (space <= height - i) {\n",
    "    print(\" \")\n",
    "    space+=1\n",
    "  }\n",
    "  var j = 1\n",
    "  while (j <= i * 2 - 1) {\n",
    "    print(\"*\")\n",
    "    j+=1\n",
    "  }\n",
    "  println()\n",
    "  i+=1\n",
    "}\n",
    "i = height - 1\n",
    "while (i > 0) {\n",
    "  var space = 1\n",
    "  while (space <= height - i) {\n",
    "    print(\" \")\n",
    "    space+=1\n",
    "  }\n",
    "  var j = 1\n",
    "  while (j <= i * 2 - 1) {\n",
    "    print(\"*\")\n",
    "    j+=1\n",
    "  }\n",
    "  println()\n",
    "  i-=1\n",
    "}"
   ]
  }
 ],
 "metadata": {
  "kernelspec": {
   "display_name": "spylon-kernel",
   "language": "scala",
   "name": "spylon-kernel"
  },
  "language_info": {
   "codemirror_mode": "text/x-scala",
   "file_extension": ".scala",
   "help_links": [
    {
     "text": "MetaKernel Magics",
     "url": "https://metakernel.readthedocs.io/en/latest/source/README.html"
    }
   ],
   "mimetype": "text/x-scala",
   "name": "scala",
   "pygments_lexer": "scala",
   "version": "0.4.1"
  }
 },
 "nbformat": 4,
 "nbformat_minor": 5
}
